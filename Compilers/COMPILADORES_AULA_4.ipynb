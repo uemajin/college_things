{
  "nbformat": 4,
  "nbformat_minor": 0,
  "metadata": {
    "colab": {
      "name": "Copy of COMPILADORES-AULA 4.ipynb",
      "provenance": [],
      "collapsed_sections": []
    },
    "kernelspec": {
      "name": "python3",
      "display_name": "Python 3"
    }
  },
  "cells": [
    {
      "cell_type": "markdown",
      "metadata": {
        "id": "EwxHf3E81Qyz"
      },
      "source": [
        "**COMPILADORES - AULA 04**\n",
        "\n",
        "**Prof. Luciano Silva**\n",
        "\n",
        "**OBJETIVOS DA AULA:**\n",
        "\n",
        "\n",
        "\n",
        "*   Revisar o processo de análise sintática\n",
        "*   Implementar um analisador sintático para a linguagem TINY-C\n",
        "\n"
      ]
    },
    {
      "cell_type": "code",
      "metadata": {
        "id": "CbWUx55j1tLM",
        "colab": {
          "base_uri": "https://localhost:8080/"
        },
        "outputId": "abc3123d-3434-484b-cae2-7230cc40083e"
      },
      "source": [
        "!pip install rply"
      ],
      "execution_count": null,
      "outputs": [
        {
          "output_type": "stream",
          "text": [
            "Collecting rply\n",
            "  Downloading https://files.pythonhosted.org/packages/c0/7c/f66be9e75485ae6901ae77d8bdbc3c0e99ca748ab927b3e18205759bde09/rply-0.7.8-py2.py3-none-any.whl\n",
            "Requirement already satisfied: appdirs in /usr/local/lib/python3.7/dist-packages (from rply) (1.4.4)\n",
            "Installing collected packages: rply\n",
            "Successfully installed rply-0.7.8\n"
          ],
          "name": "stdout"
        }
      ]
    },
    {
      "cell_type": "markdown",
      "metadata": {
        "id": "WDogT1ytJrEt"
      },
      "source": [
        "**REVISÃO DO PROCESSO DE ANÁLISE SINTÁTICA**\n",
        "\n",
        "Na nossa última aula, implementamos um analisador sintático completo para o comando de atribuição com expressões ariméticas envolvendo números inteiros sem sinal:\n",
        "\n",
        "\\<atrib\\>::= ID \"=\" \\<expression\\>\n",
        "\n",
        "\\<expression\\> ::= NUMBER\n",
        "\n",
        "       | expression> \"+\" \\<expression\\>\n",
        " \n",
        "       | <expression> \"-\" \\<expression\\>\n",
        " \n",
        "       | <expression> \"*\" \\<expression\\>\n",
        " \n",
        "       | <expression> \"/\" \\<expression\\>\n",
        " \n",
        "       | \"(\" <expression> \")\""
      ]
    },
    {
      "cell_type": "markdown",
      "metadata": {
        "id": "ACSuZUyEJ2oQ"
      },
      "source": [
        "O primeiro passo foi implementar um analisador léxico para esta gramática, mostrado abaixo:\n"
      ]
    },
    {
      "cell_type": "code",
      "metadata": {
        "id": "AohGQ2yWKDli"
      },
      "source": [
        "from rply import LexerGenerator\n",
        "\n",
        "lg = LexerGenerator()\n",
        "\n",
        "lg.add('ID', r'[a-zA-Z][a-zA-Z0-9]*')\n",
        "lg.add('EQUALS', r'=')\n",
        "lg.add('NUMBER', r'\\d+')\n",
        "lg.add('PLUS', r'\\+')\n",
        "lg.add('MINUS', r'-')\n",
        "lg.add('MUL', r'\\*')\n",
        "lg.add('DIV', r'/')\n",
        "lg.add('OPEN_PARENS', r'\\(')\n",
        "lg.add('CLOSE_PARENS', r'\\)')\n",
        "\n",
        "lg.ignore('\\s+')\n",
        "\n",
        "lexer = lg.build()"
      ],
      "execution_count": null,
      "outputs": []
    },
    {
      "cell_type": "markdown",
      "metadata": {
        "id": "ricXOj1eH7Da"
      },
      "source": [
        "O segundo passo foi implementar as classes em Python para representar os nós da árvore sintática gerada pelo analisador sintático:"
      ]
    },
    {
      "cell_type": "code",
      "metadata": {
        "id": "RLcu5RuHDl6B"
      },
      "source": [
        "from rply.token import BaseBox\n",
        "\n",
        "class Number(BaseBox):\n",
        "    def __init__(self, value):\n",
        "        self.value = value\n",
        "\n",
        "    def eval(self):\n",
        "        return self.value\n",
        "\n",
        "class BinaryOp(BaseBox):\n",
        "    def __init__(self, left, right):\n",
        "        self.left = left\n",
        "        self.right = right\n",
        "\n",
        "class Add(BinaryOp):\n",
        "    def eval(self):\n",
        "        return self.left.eval() + self.right.eval()\n",
        "\n",
        "class Sub(BinaryOp):\n",
        "    def eval(self):\n",
        "        return self.left.eval() - self.right.eval()\n",
        "\n",
        "class Mul(BinaryOp):\n",
        "    def eval(self):\n",
        "        return self.left.eval() * self.right.eval()\n",
        "\n",
        "class Div(BinaryOp):\n",
        "    def eval(self):\n",
        "        return self.left.eval() / self.right.eval()\n",
        "\n",
        "class Attrib(BaseBox):\n",
        "    def __init__(self, id, expression):\n",
        "        self.id = id\n",
        "        self.expression = expression"
      ],
      "execution_count": null,
      "outputs": []
    },
    {
      "cell_type": "markdown",
      "metadata": {
        "id": "3OEfEiOCIVxX"
      },
      "source": [
        "Finalmente, foi implementado o analisado sintático para o comando de atribuição:"
      ]
    },
    {
      "cell_type": "code",
      "metadata": {
        "id": "2MB_wWwWEGcX"
      },
      "source": [
        "from rply import ParserGenerator\n",
        "\n",
        "pg = ParserGenerator(\n",
        "    # A list of all token names, accepted by the lexer.\n",
        "    ['NUMBER', 'OPEN_PARENS', 'CLOSE_PARENS',\n",
        "     'PLUS', 'MINUS', 'MUL', 'DIV','ID','EQUALS'\n",
        "    ],\n",
        "    # A list of precedence rules with ascending precedence, to\n",
        "    # disambiguate ambiguous production rules.\n",
        "    precedence=[\n",
        "        ('left', ['PLUS', 'MINUS']),\n",
        "        ('left', ['MUL', 'DIV'])    \n",
        "    ]\n",
        ")\n",
        "\n",
        "# regra <atrib>::= ID \"=\" <expression>\n",
        "\n",
        "@pg.production('atrib : ID EQUALS expression')\n",
        "def attrib(p):\n",
        "  return Attrib(p[0].getstr(),p[2])\n",
        "\n",
        "@pg.production('expression : NUMBER')\n",
        "def expression_number(p):\n",
        "    # p is a list of the pieces matched by the right hand side of the\n",
        "    # rule\n",
        "    return Number(int(p[0].getstr()))\n",
        "\n",
        "@pg.production('expression : OPEN_PARENS expression CLOSE_PARENS')\n",
        "def expression_parens(p):\n",
        "    return p[1]\n",
        "\n",
        "@pg.production('expression : expression PLUS expression')\n",
        "@pg.production('expression : expression MINUS expression')\n",
        "@pg.production('expression : expression MUL expression')\n",
        "@pg.production('expression : expression DIV expression')\n",
        "def expression_binop(p):\n",
        "    left = p[0]\n",
        "    right = p[2]\n",
        "    if p[1].gettokentype() == 'PLUS':\n",
        "        return Add(left, right)\n",
        "    elif p[1].gettokentype() == 'MINUS':\n",
        "        return Sub(left, right)\n",
        "    elif p[1].gettokentype() == 'MUL':\n",
        "        return Mul(left, right)\n",
        "    elif p[1].gettokentype() == 'DIV':\n",
        "        return Div(left, right)\n",
        "    else:\n",
        "        raise AssertionError('Oops, this should not be possible!')\n",
        "\n",
        "parser = pg.build()"
      ],
      "execution_count": null,
      "outputs": []
    },
    {
      "cell_type": "markdown",
      "metadata": {
        "id": "XaWSNLQeJG8F"
      },
      "source": [
        "Realizamos um teste com um comando de atribuição:"
      ]
    },
    {
      "cell_type": "code",
      "metadata": {
        "id": "f9H91s7fFWdB"
      },
      "source": [
        "arvore=parser.parse(lexer.lex('x=1+2*3'))\n",
        "print(arvore)\n",
        "print(arvore.id)\n",
        "print(arvore.expression.eval())"
      ],
      "execution_count": null,
      "outputs": []
    },
    {
      "cell_type": "markdown",
      "metadata": {
        "id": "f92WP_ZgMEpq"
      },
      "source": [
        "**EXERCÍCIO**\n",
        "\n",
        "*Implementar e testar um analisador sintático para a gramática da linguagem TINY-C. Todos os nós da árvore sintática devem implementar o método print que, quando invocado, deve mostrar todo o conteúdo armazenado nos seus atributos.*\n",
        "\n",
        "\n",
        "\n",
        "\n",
        "program ::= function (function)*\n",
        "\n",
        "function ::= type_specifier id ‘(‘ param_decl_list ‘)’ compound_stmt\n",
        "\n",
        "type_specifier ::= int | char\n",
        "\n",
        "param_decl_list ::= parameter_decl (‘,’ parameter_decl )*\n",
        "\n",
        "param_decl ::= type_specifier id\n",
        "\n",
        "compound_stmt ::= ‘{‘ (var_decl stmt)? ‘}’\n",
        "\n",
        "var_decl ::= type_specifier var_decl_list ‘;’\n",
        "\n",
        "var_decl_list ::= variable_id ( ‘,’ variable_id)*\n",
        "\n",
        "variable_id ::= id ( ‘=’ expr )? | id '[' num ']'\n",
        "\n",
        "stmt ::= compound_stmt | cond_stmt | while_stmt | break ‘;’ | continue ‘;’ | return expr ‘;’ | readint ‘(‘ id ‘)’ ‘;’ | writeint ‘(‘ expr ‘)’ ‘;’\n",
        "\n",
        "cond_stmt ::= if ‘(‘ expr ‘)’ stmt (else stmt)?\n",
        "\n",
        "while_stmt ::= while ‘(‘ expr ‘)’ stmt\n",
        "\n",
        "expr ::= id ‘=’ expr | condition\n",
        "\n",
        "condition ::= disjunction | disjunction ‘?’ expr ‘:’ condition\n",
        "\n",
        "disjunction ::= conjunction | disjunction ‘||’ conjunction\n",
        "\n",
        "conjunction ::= comparison | conjunction ‘&&’ comparison\n",
        "\n",
        "comparison ::= relation | relation ‘==’ relation\n",
        "\n",
        "relation ::= sum | sum (‘<’ | ‘>’) sum\n",
        "\n",
        "sum ::= sum ‘+’ term | sum ‘-’ term | term\n",
        "\n",
        "term ::= term ‘*’ factor | term ‘/’ factor | term ‘%’ factor | factor\n",
        "\n",
        "factor ::= ‘!’ factor | ‘-’ factor | primary\n",
        "\n",
        "primary ::= num | charconst | id | ‘(‘ expr ‘)’ "
      ]
    },
    {
      "cell_type": "markdown",
      "metadata": {
        "id": "KBveMsvXODTx"
      },
      "source": [
        "A implementação do analisador léxico está disponível abaixo:"
      ]
    },
    {
      "cell_type": "code",
      "metadata": {
        "id": "pbxTHyNxOqU1"
      },
      "source": [
        "from rply import LexerGenerator\n",
        "\n",
        "lg = LexerGenerator()\n",
        "\n",
        "lg.add('INT', r'int') # OK\n",
        "lg.add('CHAR', r'char') # OK\n",
        "lg.add('BREAK', r'break')\n",
        "lg.add('CONTINUE', r'continue')\n",
        "lg.add('RETURN', r'return')\n",
        "lg.add('READINT', r'readint')\n",
        "lg.add('WRITEINT', r'writeint')\n",
        "lg.add('IF', r'if')\n",
        "lg.add('WHILE', r'while')\n",
        "lg.add('ID', r'[a-zA-Z][a-zA-Z0-9]*') # OK\n",
        "lg.add('OPEN_PAR', r'\\(') # OK\n",
        "lg.add('CLOSE_PAR', r'\\)') # OK\n",
        "lg.add('OPEN_COL', r'\\[') # OK\n",
        "lg.add('CLOSE_COL', r'\\]') # OK\n",
        "lg.add('VIRG', r'\\,')\n",
        "lg.add('OPEN_CH', r'\\{') # OK\n",
        "lg.add('CLOSE_CH', r'\\}') # OK\n",
        "lg.add('PVIRG', r'\\;')\n",
        "lg.add('COMPEQUALS', r'==') # OK\n",
        "lg.add('COMPMAIOR', r'\\>') # OK\n",
        "lg.add('COMPMENOR', r'\\<') # OK\n",
        "lg.add('EQUALS', r'=') # OK\n",
        "lg.add('INTERROG', r'\\?')\n",
        "lg.add('DOISP', r'\\:')\n",
        "lg.add('DISJ', r'\\|\\|') # OK\n",
        "lg.add('CONJ', r'&&') # OK\n",
        "lg.add('NOT', r'\\!')\n",
        "lg.add('NUMBER', r'\\d+') # OK\n",
        "lg.add('CHARCONST', r'\\'\\S\\'')\n",
        "lg.add('PLUS', r'\\+') # OK\n",
        "lg.add('MINUS', r'-') # OK \n",
        "lg.add('MUL', r'\\*') # OK\n",
        "lg.add('DIV', r'/') # OK \n",
        "lg.add('MOD', r'\\%') # OK\n",
        "\n",
        "lg.ignore('\\s+')\n",
        "\n",
        "lexer = lg.build()"
      ],
      "execution_count": 117,
      "outputs": []
    },
    {
      "cell_type": "code",
      "metadata": {
        "id": "03DUDIlxPOid"
      },
      "source": [
        "from rply.token import BaseBox\n",
        "\n",
        "'''\n",
        "\n",
        "class Program(BaseBox):\n",
        "    def __init__(self, function[])\n",
        "        self.function = function\n",
        "\n",
        "class Function(BaseBox):\n",
        "    def __init__(self, Typedef, id, params_list, func_statement)\n",
        "        self.typedef = Typedef.typedef\n",
        "        self.id = id\n",
        "        self.params_list = params_list\n",
        "        self.func_statement = func_statement\n",
        "\n",
        "class Typedef(BaseBox):\n",
        "    def __init__(self, typedef):\n",
        "        self.typedef = typedef\n",
        "\n",
        "'''\n",
        "\n",
        "class Attrib(BaseBox):\n",
        "    def __init__(self, typedef, id, expression):\n",
        "        self.typedef = typedef\n",
        "        self.id = id\n",
        "        self.expression = expression\n",
        "\n",
        "class Number(BaseBox):\n",
        "    def __init__(self, value):\n",
        "        self.value = value\n",
        "\n",
        "    def eval(self):\n",
        "        return self.value\n",
        "\n",
        "class BinaryOp(BaseBox):\n",
        "    def __init__(self, left, right):\n",
        "        self.left = left\n",
        "        self.right = right\n",
        "\n",
        "class Comp_maior(BinaryOp):\n",
        "    def eval(self):\n",
        "        if (self.left.eval() > self.right.eval()):\n",
        "          return 1\n",
        "        else:\n",
        "          return 0\n",
        "\n",
        "class Comp_menor(BinaryOp):\n",
        "    def eval(self):\n",
        "        if (self.left.eval() < self.right.eval()):\n",
        "          return 1\n",
        "        else:\n",
        "          return 0\n",
        "\n",
        "class Comp_equal(BinaryOp):\n",
        "    def eval(self):\n",
        "        if (self.left.eval() == self.right.eval()):\n",
        "          return 1\n",
        "        else:\n",
        "          return 0\n",
        "\n",
        "class Conj(BinaryOp):\n",
        "    def eval(self):\n",
        "        if ((self.left.eval() == 1) and (self.right.eval() == 1)):\n",
        "          return 1\n",
        "        else:\n",
        "          return 0\n",
        "\n",
        "class Disj(BinaryOp):\n",
        "    def eval(self):\n",
        "        if ((self.left.eval() == 1) or (self.right.eval() == 1)):\n",
        "          return 1\n",
        "        else:\n",
        "          return 0\n",
        "\n",
        "class Add(BinaryOp):\n",
        "    def eval(self):\n",
        "        return self.left.eval() + self.right.eval()\n",
        "\n",
        "class Sub(BinaryOp):\n",
        "    def eval(self):\n",
        "        return self.left.eval() - self.right.eval()\n",
        "\n",
        "class Mul(BinaryOp):\n",
        "    def eval(self):\n",
        "        return self.left.eval() * self.right.eval()\n",
        "\n",
        "class Div(BinaryOp):\n",
        "    def eval(self):\n",
        "        return self.left.eval() / self.right.eval()\n",
        "\n",
        "class Mod(BinaryOp):\n",
        "    def eval(self):\n",
        "        return self.left.eval() % self.right.eval()"
      ],
      "execution_count": 118,
      "outputs": []
    },
    {
      "cell_type": "code",
      "metadata": {
        "id": "V9UFtAf5PXh-",
        "colab": {
          "base_uri": "https://localhost:8080/"
        },
        "outputId": "a3905cf1-8493-4207-e72d-f89088d41b98"
      },
      "source": [
        "#implemente seu analisador sintático aqui...\n",
        "#modificar o analisador sintático para reconhecer atribuições\n",
        "\n",
        "from rply import ParserGenerator\n",
        "\n",
        "pg = ParserGenerator(\n",
        "    # A list of all token names, accepted by the lexer.\n",
        "    ['NUMBER',\n",
        "     'PLUS', 'MINUS', 'MUL', 'DIV','ID','EQUALS', 'COMPEQUALS',\n",
        "     'COMPMAIOR', 'COMPMENOR', 'OPEN_PAR', 'CLOSE_PAR', 'OPEN_COL', 'CLOSE_COL',\n",
        "     'OPEN_CH', 'CLOSE_CH','MOD', 'CHAR', 'INT', 'CONJ', 'DISJ'\n",
        "     ],\n",
        "    # A list of precedence rules with ascending precedence, to\n",
        "    # disambiguate ambiguous production rules.\n",
        "    precedence=[\n",
        "        ('left', ['PLUS', 'MINUS']),\n",
        "        ('left', ['MUL', 'DIV']),\n",
        "        ('left', ['MOD'])\n",
        "    ]\n",
        ")\n",
        "# regra <atrib>::= <atrib> \"=\" <expression>\n",
        "\n",
        "@pg.production('atrib : CHAR ID EQUALS expression | INT ID EQUALS expression')\n",
        "def attrib(p):\n",
        "  return Attrib(p[0].getstr(),p[1].getstr(),p[3])\n",
        "\n",
        "@pg.production('expression : NUMBER')\n",
        "def expression_number(p):\n",
        "    # p is a list of the pieces matched by the right hand side of the\n",
        "    # rule\n",
        "    return Number(int(p[0].getstr()))\n",
        "\n",
        "@pg.production('expression : OPEN_PAR expression CLOSE_PAR')\n",
        "def expression_parens(p):\n",
        "    return p[1]\n",
        "\n",
        "@pg.production('expression : OPEN_CH expression CLOSE_CH')\n",
        "def expression_ch(p):\n",
        "    return p[1]\n",
        "\n",
        "@pg.production('expression : OPEN_COL expression CLOSE_COL')\n",
        "def expression_col(p):\n",
        "    return p[1]\n",
        "\n",
        "@pg.error\n",
        "def error_handle(token):\n",
        "    raise ValueError(token)\n",
        "\n",
        "@pg.production('expression : expression PLUS expression')\n",
        "@pg.production('expression : expression MINUS expression')\n",
        "@pg.production('expression : expression MUL expression')\n",
        "@pg.production('expression : expression DIV expression')\n",
        "@pg.production('expression : expression COMPEQUALS expression')\n",
        "@pg.production('expression : expression COMPMAIOR expression')\n",
        "@pg.production('expression : expression COMPMENOR expression')\n",
        "@pg.production('expression : expression MOD expression')\n",
        "@pg.production('expression : expression CONJ expression')\n",
        "@pg.production('expression : expression DISJ expression')\n",
        "def expression_binop(p):\n",
        "    left = p[0]     \n",
        "    right = p[2]\n",
        "    if p[1].gettokentype() == 'PLUS':\n",
        "        return Add(left, right)\n",
        "    elif p[1].gettokentype() == 'MINUS':\n",
        "        return Sub(left, right)\n",
        "    elif p[1].gettokentype() == 'MUL':\n",
        "        return Mul(left, right)\n",
        "    elif p[1].gettokentype() == 'DIV':\n",
        "        return Div(left, right)\n",
        "    elif p[1].gettokentype() == 'COMPEQUALS':\n",
        "        return Comp_equal(left, right)\n",
        "    elif p[1].gettokentype() == 'COMPMAIOR':\n",
        "        return Comp_maior(left, right)\n",
        "    elif p[1].gettokentype() == 'COMPMENOR':\n",
        "        return Comp_menor(left, right)\n",
        "    elif p[1].gettokentype() == 'MOD':\n",
        "        return Mod(left, right)\n",
        "    elif p[1].gettokentype() == 'CONJ':\n",
        "        return Conj(left, right)\n",
        "    elif p[1].gettokentype() == 'DISJ':\n",
        "        return Disj(left, right)\n",
        "    else:\n",
        "        raise AssertionError('Oops, this should not be possible!')\n",
        "\n",
        "parser = pg.build()"
      ],
      "execution_count": 135,
      "outputs": [
        {
          "output_type": "stream",
          "text": [
            "/usr/local/lib/python3.7/dist-packages/ipykernel_launcher.py:85: ParserGeneratorWarning: 50 shift/reduce conflicts\n"
          ],
          "name": "stderr"
        }
      ]
    },
    {
      "cell_type": "code",
      "metadata": {
        "id": "OtHrtDaWxOpb"
      },
      "source": [
        "sTest = '''\n",
        "int x = 7\n",
        "'''"
      ],
      "execution_count": 136,
      "outputs": []
    },
    {
      "cell_type": "code",
      "metadata": {
        "id": "rY5IWrHxPdxQ",
        "colab": {
          "base_uri": "https://localhost:8080/"
        },
        "outputId": "b0499329-01be-49aa-c97d-27921d09c9c5"
      },
      "source": [
        "#teste seu analisador com um pequeno programa em TINY-C.\n",
        "arvore=parser.parse(lexer.lex(sTest))\n",
        "print(arvore)\n",
        "print(arvore.typedef)\n",
        "print(arvore.id)\n",
        "print(arvore.expression.eval())"
      ],
      "execution_count": 137,
      "outputs": [
        {
          "output_type": "stream",
          "text": [
            "<__main__.Attrib object at 0x7fccd5b66910>\n",
            "int\n",
            "x\n",
            "7\n"
          ],
          "name": "stdout"
        }
      ]
    }
  ]
}